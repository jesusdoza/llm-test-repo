{
 "cells": [
  {
   "cell_type": "code",
   "execution_count": 4,
   "id": "f430f991-51e5-4c1b-83d4-4fc8a0655195",
   "metadata": {},
   "outputs": [],
   "source": [
    "#  sequence of neighboring tokens\n",
    "import nltk\n",
    "import pandas as pd\n",
    "import matplotlib.pyplot as plt"
   ]
  },
  {
   "cell_type": "code",
   "execution_count": 13,
   "id": "226e669a-4e55-4219-95b2-53696ddc8dc5",
   "metadata": {},
   "outputs": [
    {
     "data": {
      "text/plain": [
       "['There',\n",
       " 'are',\n",
       " 'many',\n",
       " 'variations',\n",
       " 'of',\n",
       " 'passages',\n",
       " 'of',\n",
       " 'Lorem',\n",
       " 'Ipsum',\n",
       " 'available,',\n",
       " 'but',\n",
       " 'the',\n",
       " 'majority',\n",
       " 'have',\n",
       " 'suffered',\n",
       " 'alteration',\n",
       " 'in',\n",
       " 'some',\n",
       " 'form,',\n",
       " 'by',\n",
       " 'injected',\n",
       " 'humour,',\n",
       " 'or',\n",
       " 'randomised',\n",
       " 'words',\n",
       " 'which',\n",
       " \"don't\",\n",
       " 'look',\n",
       " 'even',\n",
       " 'slightly',\n",
       " 'believable.',\n",
       " 'If',\n",
       " 'you',\n",
       " 'are',\n",
       " 'going',\n",
       " 'to',\n",
       " 'use',\n",
       " 'a',\n",
       " 'passage',\n",
       " 'of',\n",
       " 'Lorem',\n",
       " 'Ipsum,',\n",
       " 'you',\n",
       " 'need',\n",
       " 'to',\n",
       " 'be',\n",
       " 'sure',\n",
       " 'there',\n",
       " \"isn't\",\n",
       " 'anything',\n",
       " 'embarrassing',\n",
       " 'hidden',\n",
       " 'in',\n",
       " 'the',\n",
       " 'middle',\n",
       " 'of',\n",
       " 'text.',\n",
       " 'All',\n",
       " 'the',\n",
       " 'Lorem',\n",
       " 'Ipsum',\n",
       " 'generators',\n",
       " 'on',\n",
       " 'the',\n",
       " 'Internet',\n",
       " 'tend',\n",
       " 'to',\n",
       " 'repeat',\n",
       " 'predefined',\n",
       " 'chunks',\n",
       " 'as',\n",
       " 'necessary,',\n",
       " 'making',\n",
       " 'this',\n",
       " 'the',\n",
       " 'first',\n",
       " 'true',\n",
       " 'generator',\n",
       " 'on',\n",
       " 'the',\n",
       " 'Internet.',\n",
       " 'It',\n",
       " 'uses',\n",
       " 'a',\n",
       " 'dictionary',\n",
       " 'of',\n",
       " 'over',\n",
       " '200',\n",
       " 'Latin',\n",
       " 'words,',\n",
       " 'combined',\n",
       " 'with',\n",
       " 'a',\n",
       " 'handful',\n",
       " 'of',\n",
       " 'model',\n",
       " 'sentence',\n",
       " 'structures,',\n",
       " 'to',\n",
       " 'generate',\n",
       " 'Lorem',\n",
       " 'Ipsum',\n",
       " 'which',\n",
       " 'looks',\n",
       " 'reasonable.',\n",
       " 'The',\n",
       " 'generated',\n",
       " 'Lorem',\n",
       " 'Ipsum',\n",
       " 'is',\n",
       " 'therefore',\n",
       " 'always',\n",
       " 'free',\n",
       " 'from',\n",
       " 'repetition,',\n",
       " 'injected',\n",
       " 'humour,',\n",
       " 'or',\n",
       " 'non-characteristic',\n",
       " 'words',\n",
       " 'etc.']"
      ]
     },
     "execution_count": 13,
     "metadata": {},
     "output_type": "execute_result"
    }
   ],
   "source": [
    "text =\"There are many variations of passages of Lorem Ipsum available, but the majority have suffered alteration in some form, by injected humour, or randomised words which don't look even slightly believable. If you are going to use a passage of Lorem Ipsum, you need to be sure there isn't anything embarrassing hidden in the middle of text. All the Lorem Ipsum generators on the Internet tend to repeat predefined chunks as necessary, making this the first true generator on the Internet. It uses a dictionary of over 200 Latin words, combined with a handful of model sentence structures, to generate Lorem Ipsum which looks reasonable. The generated Lorem Ipsum is therefore always free from repetition, injected humour, or non-characteristic words etc.\"\n",
    "tokens = text.split(' ')\n",
    "tokens"
   ]
  },
  {
   "cell_type": "code",
   "execution_count": 22,
   "id": "d842cdb5-b889-48d9-abf9-f2a5e805d973",
   "metadata": {},
   "outputs": [
    {
     "data": {
      "text/plain": [
       "(of,)                    6\n",
       "(the,)                   6\n",
       "(Lorem,)                 5\n",
       "(Ipsum,)                 4\n",
       "(to,)                    4\n",
       "                        ..\n",
       "(free,)                  1\n",
       "(from,)                  1\n",
       "(repetition,,)           1\n",
       "(non-characteristic,)    1\n",
       "(etc.,)                  1\n",
       "Name: count, Length: 90, dtype: int64"
      ]
     },
     "execution_count": 22,
     "metadata": {},
     "output_type": "execute_result"
    }
   ],
   "source": [
    "# ngram means how manay times the gram or group of tokens aka words here appear\n",
    "unigrams = (pd.Series(nltk.ngrams(tokens,1)).value_counts())\n",
    "unigrams"
   ]
  },
  {
   "cell_type": "code",
   "execution_count": 23,
   "id": "4842a259-bae1-448f-b7de-68073919fb9a",
   "metadata": {},
   "outputs": [
    {
     "data": {
      "text/plain": [
       "<Axes: >"
      ]
     },
     "execution_count": 23,
     "metadata": {},
     "output_type": "execute_result"
    },
    {
     "data": {
      "image/png": "[encoded data removed]",
      "text/plain": [
       "<Figure size 1200x800 with 1 Axes>"
      ]
     },
     "metadata": {},
     "output_type": "display_data"
    }
   ],
   "source": [
    "unigrams[:10].sort_values().plot.barh(color='salmon', width=.9,figsize=(12,8 ))"
   ]
  },
  {
   "cell_type": "code",
   "execution_count": 25,
   "id": "d73188f8-25d6-4188-a076-f7bb9f0783c9",
   "metadata": {},
   "outputs": [
    {
     "data": {
      "text/plain": [
       "(Lorem, Ipsum)                 4\n",
       "(of, Lorem)                    2\n",
       "(injected, humour,)            2\n",
       "(humour,, or)                  2\n",
       "(on, the)                      2\n",
       "                              ..\n",
       "(from, repetition,)            1\n",
       "(repetition,, injected)        1\n",
       "(or, non-characteristic)       1\n",
       "(non-characteristic, words)    1\n",
       "(words, etc.)                  1\n",
       "Name: count, Length: 113, dtype: int64"
      ]
     },
     "execution_count": 25,
     "metadata": {},
     "output_type": "execute_result"
    }
   ],
   "source": [
    "bigrams = (pd.Series(nltk.ngrams(tokens,2)).value_counts())\n",
    "bigrams"
   ]
  }
 ],
 "metadata": {
  "kernelspec": {
   "display_name": "Python 3 (ipykernel)",
   "language": "python",
   "name": "python3"
  },
  "language_info": {
   "codemirror_mode": {
    "name": "ipython",
    "version": 3
   },
   "file_extension": ".py",
   "mimetype": "text/x-python",
   "name": "python",
   "nbconvert_exporter": "python",
   "pygments_lexer": "ipython3",
   "version": "3.13.0"
  }
 },
 "nbformat": 4,
 "nbformat_minor": 5
}
