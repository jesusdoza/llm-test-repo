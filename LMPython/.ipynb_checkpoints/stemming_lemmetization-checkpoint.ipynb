{
 "cells": [
  {
   "cell_type": "code",
   "execution_count": 1,
   "id": "dc127fc6-ed9c-4eb2-bf34-05afb131a54f",
   "metadata": {},
   "outputs": [],
   "source": [
    "# stemming is removing extra letters from to bring word back to main word\n",
    "# removes few letters from end of word\n",
    "from nltk.stem import PorterStemmer"
   ]
  },
  {
   "cell_type": "code",
   "execution_count": 2,
   "id": "4def1726-c147-4b9a-8e23-d0ba82d37d56",
   "metadata": {},
   "outputs": [],
   "source": [
    "ps = PorterStemmer()"
   ]
  },
  {
   "cell_type": "code",
   "execution_count": 3,
   "id": "70c6a8c7-fc7d-4367-811c-9a98b32a7e48",
   "metadata": {},
   "outputs": [],
   "source": [
    "connect_tokens = [\"connecting\", \"connects\",\"connect\",\"connectivity\"]"
   ]
  },
  {
   "cell_type": "code",
   "execution_count": 4,
   "id": "4cd19615-23b9-465e-bc37-5581aa70b169",
   "metadata": {},
   "outputs": [
    {
     "name": "stdout",
     "output_type": "stream",
     "text": [
      "connecting :  connect\n",
      "connects :  connect\n",
      "connect :  connect\n",
      "connectivity :  connect\n"
     ]
    }
   ],
   "source": [
    "for t in connect_tokens:\n",
    "    print(t, \": \",ps.stem(t))"
   ]
  },
  {
   "cell_type": "markdown",
   "id": "ab7b96f2-44da-4508-90ae-270ec0cc731b",
   "metadata": {},
   "source": [
    "# Lemmatizaion"
   ]
  },
  {
   "cell_type": "code",
   "execution_count": 5,
   "id": "6f3f3bc6-e23b-4b3a-860d-adba32e22892",
   "metadata": {},
   "outputs": [],
   "source": [
    "# keeps more context of a word\n",
    "import nltk"
   ]
  },
  {
   "cell_type": "code",
   "execution_count": 6,
   "id": "ea93e47b-5722-4d8f-9555-b7c46b99759c",
   "metadata": {},
   "outputs": [
    {
     "name": "stderr",
     "output_type": "stream",
     "text": [
      "[nltk_data] Downloading package wordnet to\n",
      "[nltk_data]     C:\\Users\\halo1\\AppData\\Roaming\\nltk_data...\n"
     ]
    }
   ],
   "source": [
    "nltk.download('wordnet')\n",
    "from nltk.stem import WordNetLemmatizer"
   ]
  },
  {
   "cell_type": "code",
   "execution_count": 7,
   "id": "97559e24-2d60-4ba3-b72b-b9ebf3406b19",
   "metadata": {},
   "outputs": [],
   "source": [
    "lemmatizer = WordNetLemmatizer()"
   ]
  },
  {
   "cell_type": "code",
   "execution_count": 8,
   "id": "c759409c-2c78-4c44-ab9e-984744c35a60",
   "metadata": {},
   "outputs": [
    {
     "name": "stdout",
     "output_type": "stream",
     "text": [
      "connecting :  connecting\n",
      "connects :  connects\n",
      "connect :  connect\n",
      "connectivity :  connectivity\n"
     ]
    }
   ],
   "source": [
    "for t in connect_tokens:\n",
    "    print(t, \": \", lemmatizer.lemmatize(t))"
   ]
  },
  {
   "cell_type": "code",
   "execution_count": null,
   "id": "03a8b43e-b9eb-412e-8f3f-3d31da1e6ad1",
   "metadata": {},
   "outputs": [],
   "source": []
  }
 ],
 "metadata": {
  "kernelspec": {
   "display_name": "Python 3 (ipykernel)",
   "language": "python",
   "name": "python3"
  },
  "language_info": {
   "codemirror_mode": {
    "name": "ipython",
    "version": 3
   },
   "file_extension": ".py",
   "mimetype": "text/x-python",
   "name": "python",
   "nbconvert_exporter": "python",
   "pygments_lexer": "ipython3",
   "version": "3.13.0"
  }
 },
 "nbformat": 4,
 "nbformat_minor": 5
}
