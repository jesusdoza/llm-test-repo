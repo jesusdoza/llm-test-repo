{
 "cells": [
  {
   "cell_type": "code",
   "execution_count": 2,
   "id": "de041a00-4378-47a8-97d4-6a0d340f8f95",
   "metadata": {},
   "outputs": [
    {
     "name": "stderr",
     "output_type": "stream",
     "text": [
      "[nltk_data] Downloading package punkt_tab to\n",
      "[nltk_data]     C:\\Users\\halo1\\AppData\\Roaming\\nltk_data...\n",
      "[nltk_data]   Package punkt_tab is already up-to-date!\n"
     ]
    }
   ],
   "source": [
    "import nltk\n",
    "nltk.download(\"punkt_tab\")\n",
    "from nltk.tokenize import word_tokenize, sent_tokenize"
   ]
  },
  {
   "cell_type": "code",
   "execution_count": 5,
   "id": "a6050a71-8668-476a-9fad-f5293b04e797",
   "metadata": {},
   "outputs": [],
   "source": [
    "sentences = \"this sentence will be tokenized and made into peices. then other stuff will happen\""
   ]
  },
  {
   "cell_type": "code",
   "execution_count": 7,
   "id": "36828eca-4cb2-4040-8f74-4c5d8e909c4e",
   "metadata": {},
   "outputs": [
    {
     "data": {
      "text/plain": [
       "['this sentence will be tokenized and made into peices.',\n",
       " 'then other stuff will happen']"
      ]
     },
     "execution_count": 7,
     "metadata": {},
     "output_type": "execute_result"
    }
   ],
   "source": [
    "sent_tokenize(sentences) # aka sentence tokenizer"
   ]
  },
  {
   "cell_type": "code",
   "execution_count": 9,
   "id": "bc3134eb-1ba0-444b-b61d-93631785e9d6",
   "metadata": {},
   "outputs": [
    {
     "data": {
      "text/plain": [
       "['this',\n",
       " 'sentence',\n",
       " 'will',\n",
       " 'be',\n",
       " 'tokenized',\n",
       " 'and',\n",
       " 'made',\n",
       " 'into',\n",
       " 'peices',\n",
       " '.',\n",
       " 'then',\n",
       " 'other',\n",
       " 'stuff',\n",
       " 'will',\n",
       " 'happen']"
      ]
     },
     "execution_count": 9,
     "metadata": {},
     "output_type": "execute_result"
    }
   ],
   "source": [
    "word_tokenize(sentences) # creates array of words case sensitive"
   ]
  },
  {
   "cell_type": "code",
   "execution_count": null,
   "id": "874df99c-98e3-48b1-a63a-7d546c28bc7d",
   "metadata": {},
   "outputs": [],
   "source": []
  }
 ],
 "metadata": {
  "kernelspec": {
   "display_name": "Python 3 (ipykernel)",
   "language": "python",
   "name": "python3"
  },
  "language_info": {
   "codemirror_mode": {
    "name": "ipython",
    "version": 3
   },
   "file_extension": ".py",
   "mimetype": "text/x-python",
   "name": "python",
   "nbconvert_exporter": "python",
   "pygments_lexer": "ipython3",
   "version": "3.11.3"
  }
 },
 "nbformat": 4,
 "nbformat_minor": 5
}
